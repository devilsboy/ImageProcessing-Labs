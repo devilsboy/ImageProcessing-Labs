{
  "nbformat": 4,
  "nbformat_minor": 0,
  "metadata": {
    "colab": {
      "name": "IP-Lab-2.ipynb",
      "provenance": []
    },
    "kernelspec": {
      "name": "python3",
      "display_name": "Python 3"
    }
  },
  "cells": [
    {
      "cell_type": "markdown",
      "metadata": {
        "id": "gR5gZx9O6Aag",
        "colab_type": "text"
      },
      "source": [
        "**Importing libraries**"
      ]
    },
    {
      "cell_type": "code",
      "metadata": {
        "id": "LHjQJGEquTL8",
        "colab_type": "code",
        "colab": {}
      },
      "source": [
        "import numpy as np\n",
        "import matplotlib.pyplot as plt\n",
        "import matplotlib.image as mpimg\n",
        "from PIL import Image\n",
        "import requests\n",
        "from io import BytesIO\n",
        "from google.colab.patches import cv2_imshow\n",
        "import cv2"
      ],
      "execution_count": 10,
      "outputs": []
    },
    {
      "cell_type": "code",
      "metadata": {
        "id": "d8lvlFvTqcA8",
        "colab_type": "code",
        "colab": {}
      },
      "source": [
        "url = requests.get('https://i.imgur.com/1gq3anY.jpeg')\n",
        "img = Image.open(BytesIO(url.content))\n",
        "img.save(\"q1.png\")"
      ],
      "execution_count": 11,
      "outputs": []
    },
    {
      "cell_type": "markdown",
      "metadata": {
        "id": "x8nrEfWN6KLR",
        "colab_type": "text"
      },
      "source": [
        "**Converting Image to grey scale**"
      ]
    },
    {
      "cell_type": "code",
      "metadata": {
        "id": "Lm3CJEk1rD_B",
        "colab_type": "code",
        "colab": {}
      },
      "source": [
        "img_grey = img.convert(\"LA\")\n",
        "img_grey.save(\"q1_grey.png\")"
      ],
      "execution_count": 12,
      "outputs": []
    },
    {
      "cell_type": "code",
      "metadata": {
        "id": "sVGWcx48sijE",
        "colab_type": "code",
        "colab": {}
      },
      "source": [
        "f, axarr = plt.subplots(2)\n",
        "axarr[0].imshow(img)\n",
        "axarr[1].imshow(img_grey)"
      ],
      "execution_count": null,
      "outputs": []
    },
    {
      "cell_type": "markdown",
      "metadata": {
        "id": "5hNVv45C6P4U",
        "colab_type": "text"
      },
      "source": [
        "**Converting Image to grey scale using matplotlib**"
      ]
    },
    {
      "cell_type": "code",
      "metadata": {
        "id": "cao9JQOVtnaI",
        "colab_type": "code",
        "colab": {}
      },
      "source": [
        "def rgb2gray(rgb):\n",
        "    return np.dot(rgb[...,:3], [0.2989, 0.5870, 0.1140])\n",
        "\n",
        "img = mpimg.imread('q1.png')     \n",
        "gray = rgb2gray(img)    \n",
        "plt.imshow(gray, cmap=plt.get_cmap('gray'), vmin=0, vmax=1)\n",
        "plt.show()"
      ],
      "execution_count": null,
      "outputs": []
    },
    {
      "cell_type": "code",
      "metadata": {
        "id": "O657duYEwj0d",
        "colab_type": "code",
        "colab": {}
      },
      "source": [
        "url = requests.get('https://i.imgur.com/I6Phm23.jpg')\n",
        "img = Image.open(BytesIO(url.content))\n",
        "img.save(\"q2.png\")"
      ],
      "execution_count": 15,
      "outputs": []
    },
    {
      "cell_type": "markdown",
      "metadata": {
        "id": "Pbb_jYIiN-Ds",
        "colab_type": "text"
      },
      "source": [
        "**Steps**\n",
        "1. Read the image\n",
        "2. Define function to covert from rgb to grey using dot product\n",
        "3. Use that function on the read image\n",
        "4. Check and save the image"
      ]
    },
    {
      "cell_type": "markdown",
      "metadata": {
        "id": "brob-CHp6cGh",
        "colab_type": "text"
      },
      "source": [
        "**Adding Images**"
      ]
    },
    {
      "cell_type": "code",
      "metadata": {
        "id": "5euU4sZyuYML",
        "colab_type": "code",
        "colab": {}
      },
      "source": [
        "img1 = cv2.imread('q1.png')\n",
        "img2 = cv2.imread('q2.png')\n",
        "dst = cv2.addWeighted(img1,0.4,img2,0.6,0)\n",
        "cv2_imshow(dst)"
      ],
      "execution_count": null,
      "outputs": []
    },
    {
      "cell_type": "markdown",
      "metadata": {
        "id": "yyfutGnM6f_Z",
        "colab_type": "text"
      },
      "source": [
        "**Subtracting Images**"
      ]
    },
    {
      "cell_type": "code",
      "metadata": {
        "id": "ey1jNUaxxbY3",
        "colab_type": "code",
        "colab": {}
      },
      "source": [
        "dst = cv2.subtract(img1,img2)\n",
        "cv2_imshow(dst)"
      ],
      "execution_count": null,
      "outputs": []
    },
    {
      "cell_type": "markdown",
      "metadata": {
        "id": "hkyo9IHf6q2K",
        "colab_type": "text"
      },
      "source": [
        "**Multiplying Images**"
      ]
    },
    {
      "cell_type": "code",
      "metadata": {
        "id": "iLhSk-olvhaY",
        "colab_type": "code",
        "colab": {}
      },
      "source": [
        "dst = img1*img2\n",
        "cv2_imshow(dst)"
      ],
      "execution_count": null,
      "outputs": []
    },
    {
      "cell_type": "markdown",
      "metadata": {
        "id": "cJyd800k61_I",
        "colab_type": "text"
      },
      "source": [
        "**RGB to HSV**"
      ]
    },
    {
      "cell_type": "code",
      "metadata": {
        "id": "1cBdYdVQzt6t",
        "colab_type": "code",
        "colab": {}
      },
      "source": [
        "HSV_img = cv2.cvtColor(img1,cv2.COLOR_BGR2HSV)\n",
        "cv2_imshow(HSV_img)"
      ],
      "execution_count": null,
      "outputs": []
    },
    {
      "cell_type": "markdown",
      "metadata": {
        "id": "L99YLu3b7DG8",
        "colab_type": "text"
      },
      "source": [
        "**Resizing using Nearest** "
      ]
    },
    {
      "cell_type": "code",
      "metadata": {
        "ExecuteTime": {
          "end_time": "2020-08-28T12:31:46.028942Z",
          "start_time": "2020-08-28T12:31:45.812180Z"
        },
        "id": "RUwY41iX0T8M",
        "colab_type": "code",
        "colab": {}
      },
      "source": [
        "near_img = cv2.resize(img1,None, fx = 0.5, fy = 0.5, interpolation = cv2.INTER_NEAREST)\n",
        "plt.imshow(near_img)"
      ],
      "execution_count": null,
      "outputs": []
    },
    {
      "cell_type": "markdown",
      "metadata": {
        "id": "NrcmoGXd7Nuw",
        "colab_type": "text"
      },
      "source": [
        " **Resizing using Bilinear**"
      ]
    },
    {
      "cell_type": "code",
      "metadata": {
        "id": "oDY9oX8x4p5Q",
        "colab_type": "code",
        "colab": {}
      },
      "source": [
        "bilinear_img = cv2.resize(img1,None, fx = 0.5, fy = 0.5, interpolation = cv2.INTER_LINEAR)\n",
        "plt.imshow(bilinear_img)"
      ],
      "execution_count": null,
      "outputs": []
    },
    {
      "cell_type": "markdown",
      "metadata": {
        "id": "thPK-JuN7Sta",
        "colab_type": "text"
      },
      "source": [
        "**Resizing using Bicubic**"
      ]
    },
    {
      "cell_type": "code",
      "metadata": {
        "id": "J6xSh1ik4xrb",
        "colab_type": "code",
        "colab": {}
      },
      "source": [
        "bicubic_img = cv2.resize(img1,None, fx = 0.5, fy = 0.5, interpolation = cv2.INTER_CUBIC)\n",
        "plt.imshow(bicubic_img)"
      ],
      "execution_count": null,
      "outputs": []
    },
    {
      "cell_type": "markdown",
      "metadata": {
        "id": "LyM24_q6PSke",
        "colab_type": "text"
      },
      "source": [
        "**Observations**\n",
        "1. Bilinear resizing produces the sharpest image\n",
        "2. While nearest neighbour produces the least sharpest image\n",
        "3. This is due to the diffrence in the pixel processing method"
      ]
    },
    {
      "cell_type": "code",
      "metadata": {
        "id": "IOrBJytvRd6u",
        "colab_type": "code",
        "colab": {}
      },
      "source": [
        ""
      ],
      "execution_count": null,
      "outputs": []
    }
  ]
}