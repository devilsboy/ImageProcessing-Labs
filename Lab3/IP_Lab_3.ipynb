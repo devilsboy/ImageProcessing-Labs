{
  "nbformat": 4,
  "nbformat_minor": 0,
  "metadata": {
    "colab": {
      "name": "IP-Lab-3.ipynb",
      "provenance": []
    },
    "kernelspec": {
      "name": "python3",
      "display_name": "Python 3"
    }
  },
  "cells": [
    {
      "cell_type": "markdown",
      "metadata": {
        "id": "YFFWkna1Pn22",
        "colab_type": "text"
      },
      "source": [
        "**Importing**"
      ]
    },
    {
      "cell_type": "code",
      "metadata": {
        "id": "eJLf6dZ5ywjJ",
        "colab_type": "code",
        "colab": {}
      },
      "source": [
        "from PIL import Image,ImageDraw,ImageFilter\n",
        "import requests\n",
        "from io import BytesIO\n",
        "import matplotlib.pyplot as plt\n",
        "import cv2\n",
        "import numpy as np\n",
        "from numpy import asarray"
      ],
      "execution_count": null,
      "outputs": []
    },
    {
      "cell_type": "markdown",
      "metadata": {
        "id": "9TO41N2RPtMm",
        "colab_type": "text"
      },
      "source": [
        "**Question1**"
      ]
    },
    {
      "cell_type": "code",
      "metadata": {
        "id": "wLA4_Ky8zaaQ",
        "colab_type": "code",
        "colab": {}
      },
      "source": [
        "url = requests.get('https://i.imgur.com/kQzxfmp.jpg')\n",
        "img = Image.open(BytesIO(url.content))\n",
        "img"
      ],
      "execution_count": null,
      "outputs": []
    },
    {
      "cell_type": "code",
      "metadata": {
        "id": "SNxeDhUo2Zhw",
        "colab_type": "code",
        "colab": {}
      },
      "source": [
        "arr = asarray(img)\n",
        "print(type(arr))\n",
        "# print(arr)"
      ],
      "execution_count": null,
      "outputs": []
    },
    {
      "cell_type": "code",
      "metadata": {
        "id": "mgEN-fm12-aO",
        "colab_type": "code",
        "colab": {}
      },
      "source": [
        "reverse = Image.fromarray(arr)\n",
        "print(type(reverse))"
      ],
      "execution_count": null,
      "outputs": []
    },
    {
      "cell_type": "markdown",
      "metadata": {
        "id": "rAT3MmRbP_io",
        "colab_type": "text"
      },
      "source": [
        "**Question2**"
      ]
    },
    {
      "cell_type": "code",
      "metadata": {
        "id": "FWRxQmm_3X4h",
        "colab_type": "code",
        "colab": {}
      },
      "source": [
        "img.save(\"img.png\")"
      ],
      "execution_count": null,
      "outputs": []
    },
    {
      "cell_type": "code",
      "metadata": {
        "id": "T1lu0aLN4-lV",
        "colab_type": "code",
        "colab": {}
      },
      "source": [
        "img.size"
      ],
      "execution_count": null,
      "outputs": []
    },
    {
      "cell_type": "markdown",
      "metadata": {
        "id": "DTHFhhV5P2za",
        "colab_type": "text"
      },
      "source": [
        "**Question3**"
      ]
    },
    {
      "cell_type": "code",
      "metadata": {
        "id": "DQuF3sUs6JyP",
        "colab_type": "code",
        "colab": {}
      },
      "source": [
        "left = 2700\n",
        "top = 650\n",
        "right = 3600\n",
        "bottom = 1200"
      ],
      "execution_count": null,
      "outputs": []
    },
    {
      "cell_type": "code",
      "metadata": {
        "id": "QhAFZhMw6Tma",
        "colab_type": "code",
        "colab": {}
      },
      "source": [
        "img1 = img.crop((left, top, right, bottom))"
      ],
      "execution_count": null,
      "outputs": []
    },
    {
      "cell_type": "code",
      "metadata": {
        "id": "mUfK_aiF6Wdv",
        "colab_type": "code",
        "colab": {}
      },
      "source": [
        "img1"
      ],
      "execution_count": null,
      "outputs": []
    },
    {
      "cell_type": "code",
      "metadata": {
        "id": "CXL9gF2Y6Z-T",
        "colab_type": "code",
        "colab": {}
      },
      "source": [
        "f, axarr = plt.subplots(2)\n",
        "axarr[0].imshow(img)\n",
        "axarr[1].imshow(img1)"
      ],
      "execution_count": null,
      "outputs": []
    },
    {
      "cell_type": "code",
      "metadata": {
        "id": "oFXO28oh7cg-",
        "colab_type": "code",
        "colab": {}
      },
      "source": [
        "arr.shape"
      ],
      "execution_count": null,
      "outputs": []
    },
    {
      "cell_type": "code",
      "metadata": {
        "id": "22iCYEMj92CL",
        "colab_type": "code",
        "colab": {}
      },
      "source": [
        "img_arr_crop = arr[:2000, :2000]\n",
        "arr_crop = Image.fromarray(np.uint8(img_arr_crop)).convert('RGB')"
      ],
      "execution_count": null,
      "outputs": []
    },
    {
      "cell_type": "code",
      "metadata": {
        "id": "T5bHmj7P-9wp",
        "colab_type": "code",
        "colab": {}
      },
      "source": [
        "f, axarr = plt.subplots(2)\n",
        "axarr[0].imshow(img)\n",
        "axarr[1].imshow(arr_crop)"
      ],
      "execution_count": null,
      "outputs": []
    },
    {
      "cell_type": "markdown",
      "metadata": {
        "id": "KrQtsWaRQHYe",
        "colab_type": "text"
      },
      "source": [
        "**Question4**"
      ]
    },
    {
      "cell_type": "code",
      "metadata": {
        "id": "MxQ3mmnv_Lb5",
        "colab_type": "code",
        "colab": {}
      },
      "source": [
        "new=255-arr\n",
        "new_n = Image.fromarray(np.uint8(new)).convert('RGB')\n",
        "display(new_n)"
      ],
      "execution_count": null,
      "outputs": []
    },
    {
      "cell_type": "markdown",
      "metadata": {
        "id": "zFxCirqIQJ1C",
        "colab_type": "text"
      },
      "source": [
        "**Question5**"
      ]
    },
    {
      "cell_type": "code",
      "metadata": {
        "id": "mq10K48sAaQE",
        "colab_type": "code",
        "colab": {}
      },
      "source": [
        "def mask_circle_solid(pil_img, background_color, blur_radius, offset=0):\n",
        "    background = Image.new(pil_img.mode, pil_img.size, background_color)\n",
        "\n",
        "    offset = blur_radius * 2 + offset\n",
        "    mask = Image.new(\"L\", pil_img.size, 0)\n",
        "    draw = ImageDraw.Draw(mask)\n",
        "    draw.ellipse((offset, offset, pil_img.size[0] - offset, pil_img.size[1] - offset), fill=255)\n",
        "    mask = mask.filter(ImageFilter.GaussianBlur(blur_radius))\n",
        "\n",
        "    return Image.composite(pil_img, background, mask)"
      ],
      "execution_count": null,
      "outputs": []
    },
    {
      "cell_type": "code",
      "metadata": {
        "id": "DrzQ2hzwCLoG",
        "colab_type": "code",
        "colab": {}
      },
      "source": [
        "im_thumb = mask_circle_solid(img, (0, 0, 0), 4)\n",
        "im_thumb.save('mask_circle.jpg')\n",
        "im_thumb"
      ],
      "execution_count": null,
      "outputs": []
    },
    {
      "cell_type": "markdown",
      "metadata": {
        "id": "Cbua6ACIQM2w",
        "colab_type": "text"
      },
      "source": [
        "**Question6**"
      ]
    },
    {
      "cell_type": "code",
      "metadata": {
        "id": "EOGox1trIAia",
        "colab_type": "code",
        "colab": {}
      },
      "source": [
        "!unzip /content/Dataset-20200903T050208Z.zip"
      ],
      "execution_count": null,
      "outputs": []
    },
    {
      "cell_type": "code",
      "metadata": {
        "id": "RDLGSIJcM8bY",
        "colab_type": "code",
        "colab": {}
      },
      "source": [
        "path = \"/content/Dataset/dog\"\n",
        "\n",
        "images=[]\n",
        "\n",
        "for i in range(1,10):\n",
        "\n",
        "        img = cv2.imread(path+'/dog'+str(i)+'.jpg')\n",
        "        images.append(img)\n",
        "for i in images:\n",
        "    display(Image.fromarray(np.uint8(i)).convert('RGB'))"
      ],
      "execution_count": null,
      "outputs": []
    },
    {
      "cell_type": "markdown",
      "metadata": {
        "id": "smOFfLcdQQEp",
        "colab_type": "text"
      },
      "source": [
        "**Question7**"
      ]
    },
    {
      "cell_type": "code",
      "metadata": {
        "id": "8WMay1ahGE3D",
        "colab_type": "code",
        "colab": {}
      },
      "source": [
        "MAX_SIZE = (500, 500)\n",
        "img.thumbnail(MAX_SIZE)"
      ],
      "execution_count": null,
      "outputs": []
    },
    {
      "cell_type": "code",
      "metadata": {
        "id": "NZt-kXFKJSaA",
        "colab_type": "code",
        "colab": {}
      },
      "source": [
        "img.save(\"imgt.png\")"
      ],
      "execution_count": null,
      "outputs": []
    },
    {
      "cell_type": "code",
      "metadata": {
        "id": "A9wsm7LHJd11",
        "colab_type": "code",
        "colab": {}
      },
      "source": [
        "img = Image.open(\"/content/img.png\")\n",
        "imgt = Image.open(\"/content/imgt.png\")"
      ],
      "execution_count": null,
      "outputs": []
    },
    {
      "cell_type": "code",
      "metadata": {
        "id": "awXZMGEBK7I3",
        "colab_type": "code",
        "colab": {}
      },
      "source": [
        "back_im = img.copy()\n",
        "back_im.paste(imgt)\n",
        "display(back_im)"
      ],
      "execution_count": null,
      "outputs": []
    },
    {
      "cell_type": "markdown",
      "metadata": {
        "id": "ZDam1ZLZIvWD",
        "colab_type": "text"
      },
      "source": [
        "**Question8**"
      ]
    },
    {
      "cell_type": "code",
      "metadata": {
        "id": "EqCuWguMMHYq",
        "colab_type": "code",
        "colab": {}
      },
      "source": [
        "x, y =  img.size\n",
        "eX, eY = 2000, 2000 \n",
        "bbox =  (x/2 - eX/2, y/2 - eY/2, x/2 + eX/2, y/2 + eY/2)\n",
        "draw = ImageDraw.Draw(img)\n",
        "draw.ellipse(bbox,fill=000)\n",
        "del draw"
      ],
      "execution_count": null,
      "outputs": []
    },
    {
      "cell_type": "code",
      "metadata": {
        "id": "VD3T8IfHPTXZ",
        "colab_type": "code",
        "colab": {}
      },
      "source": [
        "img"
      ],
      "execution_count": null,
      "outputs": []
    },
    {
      "cell_type": "code",
      "metadata": {
        "id": "pt-eVfcLP96J",
        "colab_type": "code",
        "colab": {}
      },
      "source": [
        "pip install Python-fontconfig"
      ],
      "execution_count": null,
      "outputs": []
    },
    {
      "cell_type": "code",
      "metadata": {
        "id": "0R--XZN0R7mm",
        "colab_type": "code",
        "colab": {}
      },
      "source": [
        "from PIL import Image,ImageDraw,ImageFont\n",
        "import fontconfig\n",
        "\n",
        "# find a font file\n",
        "fonts = fontconfig.query(lang='en')\n",
        "for i in range(1, len(fonts)):\n",
        "    if fonts[i].fontformat == 'TrueType':\n",
        "        absolute_path = fonts[i].file\n",
        "        break\n",
        "\n",
        "# the rest is like the original code:\n",
        "# sample text and font\n",
        "unicode_text = u\"Hello World from the 1990s!!\"\n",
        "font = ImageFont.truetype(absolute_path, 200, encoding=\"unic\")\n",
        "\n",
        "# get the line size\n",
        "text_width, text_height = font.getsize(unicode_text)\n",
        "\n",
        "im8 = Image.open(\"/content/img.png\")\n",
        "\n",
        "# draw the text onto the text canvas, and use black as the text color\n",
        "draw = ImageDraw.Draw(im8)\n",
        "draw.text((1500,1500), u'Hello World from the 1990s!!', 'blue', font)\n",
        "\n",
        "# save the blank canvas to a file\n",
        "im8.save(\"unicode-text.png\", \"PNG\")\n",
        "im8.show()"
      ],
      "execution_count": null,
      "outputs": []
    },
    {
      "cell_type": "code",
      "metadata": {
        "id": "f1cyqkACSTCp",
        "colab_type": "code",
        "colab": {}
      },
      "source": [
        "display(im8)"
      ],
      "execution_count": null,
      "outputs": []
    },
    {
      "cell_type": "markdown",
      "metadata": {
        "id": "z7kxnviKUsci",
        "colab_type": "text"
      },
      "source": [
        "**Question9**"
      ]
    },
    {
      "cell_type": "code",
      "metadata": {
        "id": "188oGP6FSY1x",
        "colab_type": "code",
        "colab": {}
      },
      "source": [
        "img9=cv2.imread('/content/download.png',1)\n",
        "cv2_imshow(img9)"
      ],
      "execution_count": null,
      "outputs": []
    },
    {
      "cell_type": "code",
      "metadata": {
        "id": "VwACOPkXXWFI",
        "colab_type": "code",
        "colab": {}
      },
      "source": [
        "from google.colab.patches import cv2_imshow"
      ],
      "execution_count": null,
      "outputs": []
    },
    {
      "cell_type": "code",
      "metadata": {
        "id": "JFhT7nPwXNdc",
        "colab_type": "code",
        "colab": {}
      },
      "source": [
        "b,g,r=cv2.split(img9)\n",
        "cv2_imshow(b)\n",
        "cv2.waitKey(0)\n",
        "cv2_imshow(g)\n",
        "cv2.waitKey(0)\n",
        "cv2_imshow(r)\n",
        "cv2.waitKey(0)\n",
        "\n",
        "cv2.destroyAllWindows()"
      ],
      "execution_count": null,
      "outputs": []
    },
    {
      "cell_type": "code",
      "metadata": {
        "id": "T1A1lmAmXQ8J",
        "colab_type": "code",
        "colab": {}
      },
      "source": [
        "im8b=cv2.merge((b,g,r))\n",
        "cv2_imshow(im8b)\n",
        "cv2.waitKey(0)\n",
        "cv2.destroyAllWindows()"
      ],
      "execution_count": null,
      "outputs": []
    },
    {
      "cell_type": "code",
      "metadata": {
        "id": "01ADGmpIXfr7",
        "colab_type": "code",
        "colab": {}
      },
      "source": [
        ""
      ],
      "execution_count": null,
      "outputs": []
    }
  ]
}